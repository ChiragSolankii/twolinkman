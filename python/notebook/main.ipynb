{
 "cells": [
  {
   "cell_type": "code",
   "execution_count": null,
   "metadata": {},
   "outputs": [],
   "source": [
    "#Modules required roslaunch, rospy, time, numpy, std_msgs, tf2_msgs, tf"
   ]
  },
  {
   "cell_type": "code",
   "execution_count": null,
   "metadata": {},
   "outputs": [],
   "source": [
    "%matplotlib inline\n",
    "\n",
    "import roslaunch, rospy, time, keyboard\n",
    "import rospkg as rp\n",
    "import numpy as np\n",
    "from std_msgs.msg import Float64\n",
    "from tf2_msgs.msg import TFMessage\n",
    "from tf.transformations import euler_from_quaternion\n",
    "import matplotlib.pyplot as plt\n",
    "import time, threading\n",
    "\n",
    "from collections import deque\n",
    "\n",
    "pi = 3.1415926\n",
    "\n",
    "f_topic = '/twolinkman/front_joint_effort_controller/command'\n",
    "r_topic = '/twolinkman/rear_joint_effort_controller/command'\n",
    "rcon_launch_path = '/launch/twolinkman_control.launch'\n",
    "rp = rp.RosPack()\n",
    "package_path = rp.get_path('twolinkman')\n",
    "\n",
    "class Joint:\n",
    "\tdef __init__(self,topic,setpoint):\n",
    "\t\tself.topic = topic\n",
    "\t\tself.pub = setpoint\n",
    "\n",
    "class PID:\n",
    "    e = 0\n",
    "    E = 0\n",
    "    ep = 0\n",
    "    def __init__(self,kp = 0,ki = 0,kd = 0):\n",
    "        self.kp = kp\n",
    "        self.ki = ki\n",
    "        self.kd = kd\n",
    "    def pid(self, setpoint, process_value):\n",
    "        self.e = setpoint-process_value\n",
    "        self.E = self.E + self.e\n",
    "        ed = self.e - self.ep\n",
    "        self.ep = self.e\n",
    "        return (self.kp*self.e+self.kd*ed+self.ki*self.E)    "
   ]
  },
  {
   "cell_type": "code",
   "execution_count": null,
   "metadata": {},
   "outputs": [],
   "source": [
    "#ROS Control Launch file\n",
    "rcon_uuid = roslaunch.rlutil.get_or_generate_uuid(None, False)\n",
    "roslaunch.configure_logging(rcon_uuid)\n",
    "rcon_launch = roslaunch.parent.ROSLaunchParent(rcon_uuid, [package_path+rcon_launch_path])\n",
    "rcon_launch.start()"
   ]
  },
  {
   "cell_type": "code",
   "execution_count": null,
   "metadata": {},
   "outputs": [],
   "source": [
    "#Environment ready-->\n",
    "#SetPoint Node\n",
    "front_joint = Joint(f_topic,None)\n",
    "rear_joint = Joint(r_topic,None)\n",
    "front_PID = PID(0.1,0.0,0)\n",
    "rear_PID = PID(0.1,0.0,0)\n",
    "\n",
    "def listener_callback(data):\n",
    "    global front_angle, rear_angle\n",
    "    quatf = data.transforms[0].transform.rotation\n",
    "    quatr = data.transforms[1].transform.rotation\n",
    "    (front_angle, _, _)= euler_from_quaternion([quatf.x,quatf.y,quatf.z,quatf.w])\n",
    "    (rear_angle, _, _)= euler_from_quaternion([quatr.x,quatr.y,quatr.z,quatr.w])\n",
    "    front_angle = front_angle*180/pi\n",
    "    rear_angle = rear_angle*180/pi\n",
    "    #rospy.loginfo('Front angle: '+str(front_angle)+' Rear angle: '+str(rear_angle))    \n",
    "\n",
    "setpointnode = rospy.init_node('SetPoint',anonymous=True)\n",
    "front_joint.pub = rospy.topics.Publisher(front_joint.topic,Float64,queue_size=10)\n",
    "rear_joint.pub = rospy.topics.Publisher(rear_joint.topic,Float64,queue_size=10)\n",
    "listener = rospy.topics.Subscriber('/tf',TFMessage,callback=listener_callback,queue_size = 10)\n",
    "\n"
   ]
  },
  {
   "cell_type": "code",
   "execution_count": null,
   "metadata": {},
   "outputs": [],
   "source": [
    "plt_front_angle = deque([]);\n",
    "plt_rear_angle = deque([]);\n",
    "\n",
    "fig = plt.figure();\n",
    "ax1 = fig.add_subplot(1,1,1);\n",
    "ax1.set_xlim([0, 20]);\n",
    "ax1.set_ylim([-90, 90]);\n",
    "\n",
    "def plot_data():\n",
    "    global plt_front_angle\n",
    "    frontangle = plt_front_angle\n",
    "    ax1.set_xlim([0, 20]);\n",
    "    ax1.set_ylim([-90, 90]);\n",
    "    ax1.clear();\n",
    "    x = [i for i in range(len(frontangle))]\n",
    "    ax1.plot(x,frontangle);\n",
    "    plt.show()\n",
    "    threading.Timer(0.5, plot_data).start()\n",
    "\n",
    "#plot_data();\n",
    "while not rospy.is_shutdown():\n",
    "    time.sleep(0.05);\n",
    "    front_joint.pub.publish(front_PID.pid(-45,front_angle));\n",
    "    rear_joint.pub.publish(rear_PID.pid(35,rear_angle));\n",
    "    if(len(plt_front_angle) < 20) :\n",
    "        plt_front_angle.append(front_angle);\n",
    "    else:\n",
    "        plt_front_angle.rotate(-1);\n",
    "        plt_front_angle[19] = front_angle;\n",
    "#    ax1.clear()\n",
    "    ax1.plot([i for i in range(len(plt_front_angle))],plt_front_angle);\n",
    "#    plt.pause(1)\n",
    "#\tprint(published_topics)\n",
    "#gz_launch.shutdown()\n",
    "#rcon_launch.shutdown()\n",
    "\t"
   ]
  },
  {
   "cell_type": "code",
   "execution_count": null,
   "metadata": {},
   "outputs": [],
   "source": [
    "print(x)\n",
    "print(plt_front_angle)\n",
    "fig = plt.figure()\n",
    "ax = fig.add_subplot(111) \n",
    "ax.plot(x,plt_front_angle,'r-');"
   ]
  },
  {
   "cell_type": "code",
   "execution_count": null,
   "metadata": {},
   "outputs": [],
   "source": [
    "x = [i for i in range(len(plt_front_angle))]\n",
    "print(len(x))\n",
    "print(len(plt_front_angle))"
   ]
  },
  {
   "cell_type": "code",
   "execution_count": null,
   "metadata": {},
   "outputs": [],
   "source": [
    "'''\n",
    "def norm(var1, var2):\n",
    "    norm = 0\n",
    "    if len(var1) == len(var2):\n",
    "        for i in range(len(var1)):\n",
    "            norm = norm+(var1[i]-var2[i])**2\n",
    "    else:\n",
    "        print('Invalid inputs')\n",
    "        norm = -1\n",
    "    return norm\n",
    "'''"
   ]
  },
  {
   "cell_type": "code",
   "execution_count": null,
   "metadata": {},
   "outputs": [],
   "source": [
    "#Computed Torque Controller\n",
    "a1 = 1\n",
    "a2 = 1\n",
    "m1 = 1\n",
    "m2 = 1\n",
    "th1 = 0 \n",
    "thd1 = 0\n",
    "th2 = 0 \n",
    "thd2 = 0\n",
    "g = 9.8\n",
    "D = np.matrix([[(m1+m2)*a1**2+m2*a2**2+2*m2*a1*a2*np.cos(th2), m2*a2**2+m2*a1*a2*np.cos(th2)], [m2*a2**2+m2*a1*a2*np.cos(th2), m2*a2**2]])\n",
    "H = np.matrix([[-m2*a1*a2*(2*thd1*thd2+thd2**2)*np.sin(th2)], [m2*a1*a2*thd1**2*np.sin(th2)]])\n",
    "C = np.matrix([[(m1+m2)*a1*g*np.cos(th1)+m2*a2*g*np.cos(th1+th2)], [m2*a2*g*np.cos(th1+th2)]])\n",
    "#T = D*(thdd-u)+H+C\n",
    "print(D)\n",
    "print(H)\n",
    "print(C)"
   ]
  }
 ],
 "metadata": {
  "kernelspec": {
   "display_name": "Python 2",
   "language": "python",
   "name": "python2"
  },
  "language_info": {
   "codemirror_mode": {
    "name": "ipython",
    "version": 2
   },
   "file_extension": ".py",
   "mimetype": "text/x-python",
   "name": "python",
   "nbconvert_exporter": "python",
   "pygments_lexer": "ipython2",
   "version": "2.7.14"
  }
 },
 "nbformat": 4,
 "nbformat_minor": 2
}
