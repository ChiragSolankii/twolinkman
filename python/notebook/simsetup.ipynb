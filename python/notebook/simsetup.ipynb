{
 "cells": [
  {
   "cell_type": "code",
   "execution_count": 1,
   "metadata": {},
   "outputs": [],
   "source": [
    "#Modules required: roslaunch, rospkg"
   ]
  },
  {
   "cell_type": "code",
   "execution_count": 2,
   "metadata": {},
   "outputs": [
    {
     "name": "stdout",
     "output_type": "stream",
     "text": [
      "... logging to /home/aniket/.ros/log/bac6b5c8-5c37-11e8-a051-c0389681476f/roslaunch-aniket-Inspiron-3543-8167.log\n",
      "\u001b[1mstarted roslaunch server http://aniket-Inspiron-3543:37103/\u001b[0m\n",
      "\n",
      "SUMMARY\n",
      "========\n",
      "\n",
      "PARAMETERS\n",
      " * /robot_description: <?xml version=\"1....\n",
      " * /rosdistro: kinetic\n",
      " * /rosversion: 1.12.13\n",
      " * /use_sim_time: True\n",
      "\n",
      "NODES\n",
      "  /\n",
      "    gazebo (gazebo_ros/gzserver)\n",
      "    gazebo_gui (gazebo_ros/gzclient)\n",
      "    spawn_urdf (gazebo_ros/spawn_model)\n",
      "\n",
      "\u001b[1mROS_MASTER_URI=http://localhost:11311\u001b[0m\n",
      "\u001b[1mprocess[gazebo-1]: started with pid [8198]\u001b[0m\n",
      "\u001b[1mprocess[gazebo_gui-2]: started with pid [8200]\u001b[0m\n",
      "\u001b[1mprocess[spawn_urdf-3]: started with pid [8202]\u001b[0m\n",
      "\u001b[1m[spawn_urdf-3] process has finished cleanly\n",
      "log file: /home/aniket/.ros/log/bac6b5c8-5c37-11e8-a051-c0389681476f/spawn_urdf-3*.log\u001b[0m\n",
      "\u001b[1m[gazebo_gui-2] process has finished cleanly\n",
      "log file: /home/aniket/.ros/log/bac6b5c8-5c37-11e8-a051-c0389681476f/gazebo_gui-2*.log\u001b[0m\n"
     ]
    }
   ],
   "source": [
    "import roslaunch\n",
    "import rospkg as rp\n",
    "\n",
    "#constants\n",
    "gz_launch_path = '/launch/twolinkman_gazebo.launch'\n",
    "\n",
    "rp = rp.RosPack()\n",
    "package_path = rp.get_path('twolinkman')\n",
    "\n",
    "#Gazebo Launch file \n",
    "gz_uuid = roslaunch.rlutil.get_or_generate_uuid(None, False)\n",
    "roslaunch.configure_logging(gz_uuid)\n",
    "gz_launch = roslaunch.parent.ROSLaunchParent(gz_uuid, [package_path+gz_launch_path])\n",
    "gz_launch.start()"
   ]
  },
  {
   "cell_type": "code",
   "execution_count": null,
   "metadata": {},
   "outputs": [],
   "source": []
  }
 ],
 "metadata": {
  "kernelspec": {
   "display_name": "Python 2",
   "language": "python",
   "name": "python2"
  },
  "language_info": {
   "codemirror_mode": {
    "name": "ipython",
    "version": 2
   },
   "file_extension": ".py",
   "mimetype": "text/x-python",
   "name": "python",
   "nbconvert_exporter": "python",
   "pygments_lexer": "ipython2",
   "version": "2.7.14"
  }
 },
 "nbformat": 4,
 "nbformat_minor": 2
}
