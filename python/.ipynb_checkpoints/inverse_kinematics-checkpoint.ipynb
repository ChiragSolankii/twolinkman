{
 "cells": [
  {
   "cell_type": "code",
   "execution_count": 1,
   "metadata": {},
   "outputs": [],
   "source": [
    "%matplotlib inline\n",
    "\n",
    "import numpy as np\n",
    "import matplotlib.pyplot as plt"
   ]
  },
  {
   "cell_type": "code",
   "execution_count": 2,
   "metadata": {},
   "outputs": [],
   "source": [
    "#manipulator param\n",
    "j1j2 = 17;\n",
    "j2j5 = 30;\n",
    "j5j7 = 42;\n",
    "j2j4 = 20.3;\n",
    "j3j5 = 20.3;\n",
    "j5j6 = 20;\n",
    "fwd_link_length = j5j7;\n",
    "rear_link_length = j2j5;\n",
    "\n",
    "fwd_piston_max = 38; fwd_piston_min = 23;\n",
    "rear_piston_max = 31; rear_piston_min = 21;\n",
    "SAMPLES = 50;\n",
    "\n",
    "fwd_piston_length = np.linspace(fwd_piston_min,fwd_piston_max,SAMPLES);\n",
    "rear_piston_length = np.linspace(rear_piston_min,rear_piston_max,SAMPLES);\n",
    "piston_length = np.array([]);\n",
    "for i in range(len(fwd_piston_length)):\n",
    "    for j in range(len(rear_piston_length)):\n",
    "        piston_length = np.append(piston_length,[fwd_piston_length[i],rear_piston_length[j]], axis = 0);\n",
    "piston_length = piston_length.reshape((SAMPLES**2,2));"
   ]
  },
  {
   "cell_type": "code",
   "execution_count": 3,
   "metadata": {},
   "outputs": [],
   "source": [
    "def getJointAngles(piston_length):\n",
    "    front_piston = piston_length[0:len(piston_length),0];\n",
    "    rear_piston = piston_length[0:len(piston_length),1];\n",
    "    return [np.pi-np.arccos((j1j2**2 + j2j4**2 - rear_piston**2)/(2*j1j2*j2j4)),\n",
    "            np.pi-np.arccos((j3j5**2 + j5j6**2 - front_piston**2)/(2*j3j5*j5j6))];"
   ]
  },
  {
   "cell_type": "code",
   "execution_count": 4,
   "metadata": {},
   "outputs": [],
   "source": [
    "def direct_kinematics(fwd_angle, rear_angle, fwd_link_length, rear_link_length):\n",
    "    return [rear_link_length*np.cos(rear_angle)+fwd_link_length*np.cos(fwd_angle+rear_angle), rear_link_length*np.sin(rear_angle)+fwd_link_length*np.sin(fwd_angle+rear_angle)]\n",
    "    #return np.array([[ np.cos(fwd_angle+rear_angle), -np.sin(fwd_angle+rear_angle), 0, rear_link_length*np.cos(rear_angle)+fwd_link_length*np.cos(fwd_angle+rear_angle)],\n",
    "    #                 [ np.sin(fwd_angle+rear_angle),  np.cos(fwd_angle+rear_angle), 0, rear_link_length*np.sin(rear_angle)+fwd_link_length*np.sin(fwd_angle+rear_angle)],\n",
    "    #                 [ 0                           ,  0                           , 1, 0  ],\n",
    "    #                 [ 0                           ,  0                           , 0, 1  ]]);"
   ]
  },
  {
   "cell_type": "code",
   "execution_count": 5,
   "metadata": {
    "scrolled": true
   },
   "outputs": [],
   "source": [
    "[fwd_angle, rear_angle] = getJointAngles(piston_length);"
   ]
  },
  {
   "cell_type": "code",
   "execution_count": 6,
   "metadata": {},
   "outputs": [],
   "source": [
    "[x,y]=direct_kinematics(fwd_angle,rear_angle,fwd_link_length,rear_link_length);"
   ]
  },
  {
   "cell_type": "code",
   "execution_count": 7,
   "metadata": {},
   "outputs": [
    {
     "data": {
      "image/png": "[encoded data removed]",
      "text/plain": [
       "<matplotlib.figure.Figure at 0x7fbf041a8890>"
      ]
     },
     "metadata": {},
     "output_type": "display_data"
    }
   ],
   "source": [
    "plt.plot(x,y,'r+');"
   ]
  },
  {
   "cell_type": "code",
   "execution_count": null,
   "metadata": {},
   "outputs": [],
   "source": []
  }
 ],
 "metadata": {
  "kernelspec": {
   "display_name": "Python 2",
   "language": "python",
   "name": "python2"
  },
  "language_info": {
   "codemirror_mode": {
    "name": "ipython",
    "version": 2
   },
   "file_extension": ".py",
   "mimetype": "text/x-python",
   "name": "python",
   "nbconvert_exporter": "python",
   "pygments_lexer": "ipython2",
   "version": "2.7.14"
  }
 },
 "nbformat": 4,
 "nbformat_minor": 2
}
